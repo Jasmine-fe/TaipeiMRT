{
 "cells": [
  {
   "cell_type": "code",
   "execution_count": 95,
   "metadata": {},
   "outputs": [],
   "source": [
    "import os\n",
    "import re\n",
    "import sys\n",
    "import json\n",
    "import datetime\n",
    "import matplotlib\n",
    "import numpy as np\n",
    "import pandas as pd\n",
    "import seaborn as sns\n",
    "import matplotlib.pyplot as plt\n",
    "from functools import reduce\n",
    "from datetime import datetime\n",
    "import matplotlib.dates as mdates\n",
    "\n",
    "%matplotlib inline"
   ]
  },
  {
   "cell_type": "code",
   "execution_count": 96,
   "metadata": {},
   "outputs": [],
   "source": [
    "# Shared var\n",
    "dirPath = './Data/StationCount'\n",
    "weekdayMappingDic = {\n",
    "    0: \"Mon\",\n",
    "    1: \"Tue\",\n",
    "    2: \"Wed\",\n",
    "    3: \"Thu\",\n",
    "    4: \"Fri\",\n",
    "    5: \"Sat\",\n",
    "    6: \"Sun\",\n",
    "}\n",
    "workday = [\"Mon\", \"Tue\", \"Wed\", \"Thu\", \"Fri\"]\n",
    "weekend = [\"Sat\", \"Sun\"]\n"
   ]
  },
  {
   "cell_type": "code",
   "execution_count": 97,
   "metadata": {},
   "outputs": [],
   "source": [
    "# For plot\n",
    "majorColor = '#66BC5D'\n",
    "sns.set(style='white', font='SimHei', font_scale=1.5)\n"
   ]
  },
  {
   "cell_type": "code",
   "execution_count": 98,
   "metadata": {},
   "outputs": [
    {
     "name": "stdout",
     "output_type": "stream",
     "text": [
      "[ fileName ] 202103.ods\n",
      "[ fileName ] 202104.ods\n",
      "[ fileName ] 202105.ods\n",
      "[ fileName ] 202106.ods\n",
      "[ fileName ] 202107.ods\n",
      "[ fileName ] 202108.ods\n"
     ]
    }
   ],
   "source": [
    "# merge each monthly data file \n",
    "files = os.listdir(dirPath)\n",
    "df = pd.DataFrame()\n",
    "for fileName in sorted(files):\n",
    "    print(\"[ fileName ]\", fileName)\n",
    "    monthlyDf = pd.read_excel(f\"{dirPath}/{fileName}\", engine=\"odf\")\n",
    "    df = df.append(monthlyDf, ignore_index=True)"
   ]
  },
  {
   "cell_type": "code",
   "execution_count": 99,
   "metadata": {},
   "outputs": [
    {
     "data": {
      "text/html": [
       "<div>\n",
       "<style scoped>\n",
       "    .dataframe tbody tr th:only-of-type {\n",
       "        vertical-align: middle;\n",
       "    }\n",
       "\n",
       "    .dataframe tbody tr th {\n",
       "        vertical-align: top;\n",
       "    }\n",
       "\n",
       "    .dataframe thead th {\n",
       "        text-align: right;\n",
       "    }\n",
       "</style>\n",
       "<table border=\"1\" class=\"dataframe\">\n",
       "  <thead>\n",
       "    <tr style=\"text-align: right;\">\n",
       "      <th></th>\n",
       "      <th>Date</th>\n",
       "      <th>松山機場</th>\n",
       "      <th>中山國中</th>\n",
       "      <th>南京復興</th>\n",
       "      <th>忠孝復興</th>\n",
       "      <th>大安</th>\n",
       "      <th>科技大樓</th>\n",
       "      <th>六張犁</th>\n",
       "      <th>麟光</th>\n",
       "      <th>辛亥</th>\n",
       "      <th>...</th>\n",
       "      <th>秀朗橋</th>\n",
       "      <th>景平</th>\n",
       "      <th>中和</th>\n",
       "      <th>橋和</th>\n",
       "      <th>中原</th>\n",
       "      <th>板新</th>\n",
       "      <th>Y板橋</th>\n",
       "      <th>新埔民生</th>\n",
       "      <th>幸福</th>\n",
       "      <th>新北產業園區</th>\n",
       "    </tr>\n",
       "  </thead>\n",
       "  <tbody>\n",
       "    <tr>\n",
       "      <th>0</th>\n",
       "      <td>2021-03-01</td>\n",
       "      <td>2904</td>\n",
       "      <td>7538</td>\n",
       "      <td>18272</td>\n",
       "      <td>34382</td>\n",
       "      <td>12499</td>\n",
       "      <td>7964</td>\n",
       "      <td>7036</td>\n",
       "      <td>3690</td>\n",
       "      <td>2131</td>\n",
       "      <td>...</td>\n",
       "      <td>2329</td>\n",
       "      <td>2788</td>\n",
       "      <td>3921</td>\n",
       "      <td>1129</td>\n",
       "      <td>1136</td>\n",
       "      <td>1680</td>\n",
       "      <td>6715</td>\n",
       "      <td>1796</td>\n",
       "      <td>3275</td>\n",
       "      <td>2737</td>\n",
       "    </tr>\n",
       "    <tr>\n",
       "      <th>1</th>\n",
       "      <td>2021-03-02</td>\n",
       "      <td>4008</td>\n",
       "      <td>15083</td>\n",
       "      <td>44233</td>\n",
       "      <td>39111</td>\n",
       "      <td>27086</td>\n",
       "      <td>15875</td>\n",
       "      <td>12242</td>\n",
       "      <td>4141</td>\n",
       "      <td>3274</td>\n",
       "      <td>...</td>\n",
       "      <td>2552</td>\n",
       "      <td>4151</td>\n",
       "      <td>4861</td>\n",
       "      <td>2243</td>\n",
       "      <td>3447</td>\n",
       "      <td>3064</td>\n",
       "      <td>7419</td>\n",
       "      <td>2400</td>\n",
       "      <td>3828</td>\n",
       "      <td>4319</td>\n",
       "    </tr>\n",
       "    <tr>\n",
       "      <th>2</th>\n",
       "      <td>2021-03-03</td>\n",
       "      <td>3880</td>\n",
       "      <td>15196</td>\n",
       "      <td>44666</td>\n",
       "      <td>40622</td>\n",
       "      <td>26717</td>\n",
       "      <td>15198</td>\n",
       "      <td>12066</td>\n",
       "      <td>3917</td>\n",
       "      <td>3222</td>\n",
       "      <td>...</td>\n",
       "      <td>2519</td>\n",
       "      <td>3975</td>\n",
       "      <td>4660</td>\n",
       "      <td>2272</td>\n",
       "      <td>3446</td>\n",
       "      <td>2933</td>\n",
       "      <td>7300</td>\n",
       "      <td>2474</td>\n",
       "      <td>3892</td>\n",
       "      <td>4148</td>\n",
       "    </tr>\n",
       "    <tr>\n",
       "      <th>3</th>\n",
       "      <td>2021-03-04</td>\n",
       "      <td>3901</td>\n",
       "      <td>15151</td>\n",
       "      <td>44594</td>\n",
       "      <td>40891</td>\n",
       "      <td>26884</td>\n",
       "      <td>15133</td>\n",
       "      <td>12194</td>\n",
       "      <td>4039</td>\n",
       "      <td>3336</td>\n",
       "      <td>...</td>\n",
       "      <td>2520</td>\n",
       "      <td>3995</td>\n",
       "      <td>4819</td>\n",
       "      <td>2292</td>\n",
       "      <td>3431</td>\n",
       "      <td>2965</td>\n",
       "      <td>7406</td>\n",
       "      <td>2455</td>\n",
       "      <td>3852</td>\n",
       "      <td>4162</td>\n",
       "    </tr>\n",
       "    <tr>\n",
       "      <th>4</th>\n",
       "      <td>2021-03-05</td>\n",
       "      <td>4242</td>\n",
       "      <td>15672</td>\n",
       "      <td>48271</td>\n",
       "      <td>47027</td>\n",
       "      <td>28495</td>\n",
       "      <td>15885</td>\n",
       "      <td>12638</td>\n",
       "      <td>4098</td>\n",
       "      <td>3391</td>\n",
       "      <td>...</td>\n",
       "      <td>2693</td>\n",
       "      <td>3988</td>\n",
       "      <td>5055</td>\n",
       "      <td>2327</td>\n",
       "      <td>3574</td>\n",
       "      <td>3035</td>\n",
       "      <td>9263</td>\n",
       "      <td>2640</td>\n",
       "      <td>4253</td>\n",
       "      <td>4548</td>\n",
       "    </tr>\n",
       "  </tbody>\n",
       "</table>\n",
       "<p>5 rows × 120 columns</p>\n",
       "</div>"
      ],
      "text/plain": [
       "        Date  松山機場   中山國中   南京復興   忠孝復興     大安   科技大樓    六張犁    麟光    辛亥  ...  \\\n",
       "0 2021-03-01  2904   7538  18272  34382  12499   7964   7036  3690  2131  ...   \n",
       "1 2021-03-02  4008  15083  44233  39111  27086  15875  12242  4141  3274  ...   \n",
       "2 2021-03-03  3880  15196  44666  40622  26717  15198  12066  3917  3222  ...   \n",
       "3 2021-03-04  3901  15151  44594  40891  26884  15133  12194  4039  3336  ...   \n",
       "4 2021-03-05  4242  15672  48271  47027  28495  15885  12638  4098  3391  ...   \n",
       "\n",
       "    秀朗橋    景平    中和    橋和    中原    板新   Y板橋  新埔民生    幸福  新北產業園區  \n",
       "0  2329  2788  3921  1129  1136  1680  6715  1796  3275    2737  \n",
       "1  2552  4151  4861  2243  3447  3064  7419  2400  3828    4319  \n",
       "2  2519  3975  4660  2272  3446  2933  7300  2474  3892    4148  \n",
       "3  2520  3995  4819  2292  3431  2965  7406  2455  3852    4162  \n",
       "4  2693  3988  5055  2327  3574  3035  9263  2640  4253    4548  \n",
       "\n",
       "[5 rows x 120 columns]"
      ]
     },
     "execution_count": 99,
     "metadata": {},
     "output_type": "execute_result"
    }
   ],
   "source": [
    "df.head()"
   ]
  },
  {
   "cell_type": "code",
   "execution_count": 100,
   "metadata": {},
   "outputs": [],
   "source": [
    "stationCountDf = df.melt(id_vars=[\"Date\"], var_name=\"station\", value_name=\"count\")\n",
    "stationCountDf['weekday'] = list(map(lambda x: weekdayMappingDic[x.weekday()], stationCountDf['Date']))\n",
    "stationCountDf['month'] = pd.DatetimeIndex(stationCountDf['Date']).month"
   ]
  },
  {
   "cell_type": "code",
   "execution_count": 101,
   "metadata": {},
   "outputs": [
    {
     "data": {
      "text/html": [
       "<div>\n",
       "<style scoped>\n",
       "    .dataframe tbody tr th:only-of-type {\n",
       "        vertical-align: middle;\n",
       "    }\n",
       "\n",
       "    .dataframe tbody tr th {\n",
       "        vertical-align: top;\n",
       "    }\n",
       "\n",
       "    .dataframe thead th {\n",
       "        text-align: right;\n",
       "    }\n",
       "</style>\n",
       "<table border=\"1\" class=\"dataframe\">\n",
       "  <thead>\n",
       "    <tr style=\"text-align: right;\">\n",
       "      <th></th>\n",
       "      <th>Date</th>\n",
       "      <th>station</th>\n",
       "      <th>count</th>\n",
       "      <th>weekday</th>\n",
       "      <th>month</th>\n",
       "    </tr>\n",
       "  </thead>\n",
       "  <tbody>\n",
       "    <tr>\n",
       "      <th>0</th>\n",
       "      <td>2021-03-01</td>\n",
       "      <td>松山機場</td>\n",
       "      <td>2904</td>\n",
       "      <td>Mon</td>\n",
       "      <td>3</td>\n",
       "    </tr>\n",
       "    <tr>\n",
       "      <th>1</th>\n",
       "      <td>2021-03-02</td>\n",
       "      <td>松山機場</td>\n",
       "      <td>4008</td>\n",
       "      <td>Tue</td>\n",
       "      <td>3</td>\n",
       "    </tr>\n",
       "    <tr>\n",
       "      <th>2</th>\n",
       "      <td>2021-03-03</td>\n",
       "      <td>松山機場</td>\n",
       "      <td>3880</td>\n",
       "      <td>Wed</td>\n",
       "      <td>3</td>\n",
       "    </tr>\n",
       "    <tr>\n",
       "      <th>3</th>\n",
       "      <td>2021-03-04</td>\n",
       "      <td>松山機場</td>\n",
       "      <td>3901</td>\n",
       "      <td>Thu</td>\n",
       "      <td>3</td>\n",
       "    </tr>\n",
       "    <tr>\n",
       "      <th>4</th>\n",
       "      <td>2021-03-05</td>\n",
       "      <td>松山機場</td>\n",
       "      <td>4242</td>\n",
       "      <td>Fri</td>\n",
       "      <td>3</td>\n",
       "    </tr>\n",
       "  </tbody>\n",
       "</table>\n",
       "</div>"
      ],
      "text/plain": [
       "        Date station  count weekday  month\n",
       "0 2021-03-01    松山機場   2904     Mon      3\n",
       "1 2021-03-02    松山機場   4008     Tue      3\n",
       "2 2021-03-03    松山機場   3880     Wed      3\n",
       "3 2021-03-04    松山機場   3901     Thu      3\n",
       "4 2021-03-05    松山機場   4242     Fri      3"
      ]
     },
     "execution_count": 101,
     "metadata": {},
     "output_type": "execute_result"
    }
   ],
   "source": [
    "stationCountDf.head()"
   ]
  },
  {
   "cell_type": "code",
   "execution_count": 102,
   "metadata": {},
   "outputs": [],
   "source": [
    "workdayStationCountDf = stationCountDf[stationCountDf['weekday'].isin(workday)]\n",
    "weekendStationCountDf = stationCountDf[stationCountDf['weekday'].isin(weekend)]"
   ]
  },
  {
   "cell_type": "markdown",
   "metadata": {},
   "source": [
    "# 平日、假日 各捷運站平均每日進出人數"
   ]
  },
  {
   "cell_type": "code",
   "execution_count": 103,
   "metadata": {},
   "outputs": [],
   "source": [
    "workdayMeanCountDf = workdayStationCountDf.groupby(['station'], as_index=False) \\\n",
    "    .agg({'count': 'mean'})\\\n",
    "    .sort_values('count', ascending=False) \\\n",
    "    .reset_index(drop=True).rename(columns={'count':'avgDailyCount'})\n",
    "\n",
    "\n",
    "weekendMeanCountDf = weekendStationCountDf.groupby(['station'], as_index=False) \\\n",
    "    .agg({'count': 'mean'})\\\n",
    "    .sort_values('count', ascending=False) \\\n",
    "    .reset_index(drop=True).rename(columns={'count':'avgDailyCount'})"
   ]
  },
  {
   "cell_type": "code",
   "execution_count": 104,
   "metadata": {},
   "outputs": [
    {
     "data": {
      "text/html": [
       "<div>\n",
       "<style scoped>\n",
       "    .dataframe tbody tr th:only-of-type {\n",
       "        vertical-align: middle;\n",
       "    }\n",
       "\n",
       "    .dataframe tbody tr th {\n",
       "        vertical-align: top;\n",
       "    }\n",
       "\n",
       "    .dataframe thead th {\n",
       "        text-align: right;\n",
       "    }\n",
       "</style>\n",
       "<table border=\"1\" class=\"dataframe\">\n",
       "  <thead>\n",
       "    <tr style=\"text-align: right;\">\n",
       "      <th></th>\n",
       "      <th>station</th>\n",
       "      <th>avgDailyCount</th>\n",
       "    </tr>\n",
       "  </thead>\n",
       "  <tbody>\n",
       "    <tr>\n",
       "      <th>0</th>\n",
       "      <td>台北車站</td>\n",
       "      <td>72988.469697</td>\n",
       "    </tr>\n",
       "    <tr>\n",
       "      <th>1</th>\n",
       "      <td>市政府</td>\n",
       "      <td>38115.181818</td>\n",
       "    </tr>\n",
       "    <tr>\n",
       "      <th>2</th>\n",
       "      <td>西門</td>\n",
       "      <td>33825.719697</td>\n",
       "    </tr>\n",
       "    <tr>\n",
       "      <th>3</th>\n",
       "      <td>南京復興</td>\n",
       "      <td>27572.916667</td>\n",
       "    </tr>\n",
       "    <tr>\n",
       "      <th>4</th>\n",
       "      <td>忠孝復興</td>\n",
       "      <td>26011.181818</td>\n",
       "    </tr>\n",
       "    <tr>\n",
       "      <th>5</th>\n",
       "      <td>松江南京</td>\n",
       "      <td>25487.037879</td>\n",
       "    </tr>\n",
       "  </tbody>\n",
       "</table>\n",
       "</div>"
      ],
      "text/plain": [
       "  station  avgDailyCount\n",
       "0    台北車站   72988.469697\n",
       "1     市政府   38115.181818\n",
       "2      西門   33825.719697\n",
       "3    南京復興   27572.916667\n",
       "4    忠孝復興   26011.181818\n",
       "5    松江南京   25487.037879"
      ]
     },
     "execution_count": 104,
     "metadata": {},
     "output_type": "execute_result"
    }
   ],
   "source": [
    "workdayMeanCountDf.iloc[:6]"
   ]
  },
  {
   "cell_type": "markdown",
   "metadata": {},
   "source": [
    "# 每日進出人數 Top 5 捷運站"
   ]
  },
  {
   "cell_type": "code",
   "execution_count": 105,
   "metadata": {},
   "outputs": [
    {
     "data": {
      "image/png": "[encoded data removed]",
      "text/plain": [
       "<Figure size 1440x432 with 2 Axes>"
      ]
     },
     "metadata": {},
     "output_type": "display_data"
    }
   ],
   "source": [
    "topN = 5\n",
    "\n",
    "fig, (ax1, ax2) = plt.subplots(1, 2, figsize=(20, 6))\n",
    "sns.barplot(y=\"station\", x=\"avgDailyCount\", data=workdayMeanCountDf.iloc[:topN], color=majorColor, ax= ax1).set_title('平日 台北捷運 Top 5 每日的進出站平均人數')\n",
    "sns.barplot(y=\"station\", x=\"avgDailyCount\", data=weekendMeanCountDf.iloc[:topN], color=majorColor, ax= ax2).set_title('假日 台北捷運 Top 5 每日的進出站平均人數')\n",
    "plt.savefig(\"./Result/meanStationCount.png\", dpi=1200, facecolor=fig.get_facecolor())"
   ]
  },
  {
   "cell_type": "markdown",
   "metadata": {},
   "source": [
    "# 每日進出人數 Bottom 5 捷運站"
   ]
  },
  {
   "cell_type": "code",
   "execution_count": 106,
   "metadata": {},
   "outputs": [
    {
     "data": {
      "image/png": "[encoded data removed]",
      "text/plain": [
       "<Figure size 1440x432 with 2 Axes>"
      ]
     },
     "metadata": {},
     "output_type": "display_data"
    }
   ],
   "source": [
    "fig, (ax1, ax2) = plt.subplots(1, 2, figsize=(20, 6))\n",
    "sns.barplot(y=\"station\", x=\"avgDailyCount\", data=workdayMeanCountDf.iloc[-topN:], color=majorColor, ax= ax1).set_title('平日 台北捷運 Bottom 5 每日的進出站平均人數')\n",
    "sns.barplot(y=\"station\", x=\"avgDailyCount\", data=weekendMeanCountDf.iloc[-topN:], color=majorColor, ax= ax2).set_title('假日 台北捷運 Bottom 5 每日的進出站平均人數')\n",
    "plt.savefig(\"./Result/meanStationCount_bottom.png\", dpi=1200, facecolor=fig.get_facecolor())"
   ]
  },
  {
   "cell_type": "code",
   "execution_count": 107,
   "metadata": {},
   "outputs": [],
   "source": [
    "weeklyStationCountDf = stationCountDf.drop(['month', 'weekday'], axis=1).resample('W', on='Date').agg({'count': 'sum'})\n",
    "weeklyStationCountDf = weeklyStationCountDf.reset_index().rename(columns={weeklyStationCountDf.index.name:'Date'})\n",
    "weeklyStationCountDf.rename({'count': 'weeklyStationCount'}, inplace=True, axis=1)\n",
    "weeklyStationCountDf = weeklyStationCountDf[:-1] # remove the last week ( less than a week )\n",
    "weeklyStationCountDf.to_csv('./Result/weeklyStationCount.csv', encoding=\"utf-8-sig\")"
   ]
  },
  {
   "cell_type": "code",
   "execution_count": 108,
   "metadata": {},
   "outputs": [
    {
     "data": {
      "text/html": [
       "<div>\n",
       "<style scoped>\n",
       "    .dataframe tbody tr th:only-of-type {\n",
       "        vertical-align: middle;\n",
       "    }\n",
       "\n",
       "    .dataframe tbody tr th {\n",
       "        vertical-align: top;\n",
       "    }\n",
       "\n",
       "    .dataframe thead th {\n",
       "        text-align: right;\n",
       "    }\n",
       "</style>\n",
       "<table border=\"1\" class=\"dataframe\">\n",
       "  <thead>\n",
       "    <tr style=\"text-align: right;\">\n",
       "      <th></th>\n",
       "      <th>Date</th>\n",
       "      <th>weeklyStationCount</th>\n",
       "    </tr>\n",
       "  </thead>\n",
       "  <tbody>\n",
       "    <tr>\n",
       "      <th>0</th>\n",
       "      <td>2021-03-07</td>\n",
       "      <td>13593216</td>\n",
       "    </tr>\n",
       "    <tr>\n",
       "      <th>1</th>\n",
       "      <td>2021-03-14</td>\n",
       "      <td>14580956</td>\n",
       "    </tr>\n",
       "    <tr>\n",
       "      <th>2</th>\n",
       "      <td>2021-03-21</td>\n",
       "      <td>14417945</td>\n",
       "    </tr>\n",
       "    <tr>\n",
       "      <th>3</th>\n",
       "      <td>2021-03-28</td>\n",
       "      <td>14521851</td>\n",
       "    </tr>\n",
       "    <tr>\n",
       "      <th>4</th>\n",
       "      <td>2021-04-04</td>\n",
       "      <td>13379442</td>\n",
       "    </tr>\n",
       "  </tbody>\n",
       "</table>\n",
       "</div>"
      ],
      "text/plain": [
       "        Date  weeklyStationCount\n",
       "0 2021-03-07            13593216\n",
       "1 2021-03-14            14580956\n",
       "2 2021-03-21            14417945\n",
       "3 2021-03-28            14521851\n",
       "4 2021-04-04            13379442"
      ]
     },
     "execution_count": 108,
     "metadata": {},
     "output_type": "execute_result"
    }
   ],
   "source": [
    "weeklyStationCountDf.head()"
   ]
  },
  {
   "cell_type": "markdown",
   "metadata": {},
   "source": [
    "# 疫情對台北捷運總進出人數的影響  (2021.03 - 2021.08)"
   ]
  },
  {
   "cell_type": "code",
   "execution_count": 109,
   "metadata": {},
   "outputs": [
    {
     "data": {
      "image/png": "[encoded data removed]",
      "text/plain": [
       "<Figure size 1440x432 with 1 Axes>"
      ]
     },
     "metadata": {},
     "output_type": "display_data"
    }
   ],
   "source": [
    "fig, ax1= plt.subplots(figsize=(20, 6))\n",
    "ax1.xaxis.set_major_formatter(mdates.DateFormatter('%m-%d'))\n",
    "ax1.bar(weeklyStationCountDf['Date'], weeklyStationCountDf['weeklyStationCount'], width=5, color=majorColor)\n",
    "ax1.set(ylim=(0, max(weeklyStationCountDf['weeklyStationCount'])*1.05))\n",
    "plt.xticks(rotation=90)\n",
    "plt.savefig(\"./Result/weeklyTotalStationCount.png\", dpi=1200, facecolor=fig.get_facecolor())"
   ]
  },
  {
   "cell_type": "markdown",
   "metadata": {},
   "source": [
    "# 疫情後，捷運一週的進出人數最大下降到原先的 _ %"
   ]
  },
  {
   "cell_type": "code",
   "execution_count": 110,
   "metadata": {},
   "outputs": [
    {
     "data": {
      "text/plain": [
       "18.89413486013543"
      ]
     },
     "execution_count": 110,
     "metadata": {},
     "output_type": "execute_result"
    }
   ],
   "source": [
    "min(weeklyStationCountDf['weeklyStationCount'])*100/ max(weeklyStationCountDf['weeklyStationCount'])"
   ]
  },
  {
   "cell_type": "markdown",
   "metadata": {},
   "source": [
    "# 比較疫情前後 各站人數差異大小"
   ]
  },
  {
   "cell_type": "code",
   "execution_count": 111,
   "metadata": {},
   "outputs": [],
   "source": [
    "# get min, max week of station count value\n",
    "minWeekIdx = weeklyStationCountDf['weeklyStationCount'].idxmin()\n",
    "maxWeekIdx = weeklyStationCountDf['weeklyStationCount'].idxmax()"
   ]
  },
  {
   "cell_type": "code",
   "execution_count": 112,
   "metadata": {},
   "outputs": [],
   "source": [
    "def coefficientVariation(x):\n",
    "    return np.std(x, ddof=1) / np.mean(x) * 100"
   ]
  },
  {
   "cell_type": "code",
   "execution_count": 113,
   "metadata": {},
   "outputs": [
    {
     "data": {
      "text/html": [
       "<div>\n",
       "<style scoped>\n",
       "    .dataframe tbody tr th:only-of-type {\n",
       "        vertical-align: middle;\n",
       "    }\n",
       "\n",
       "    .dataframe tbody tr th {\n",
       "        vertical-align: top;\n",
       "    }\n",
       "\n",
       "    .dataframe thead th {\n",
       "        text-align: right;\n",
       "    }\n",
       "</style>\n",
       "<table border=\"1\" class=\"dataframe\">\n",
       "  <thead>\n",
       "    <tr style=\"text-align: right;\">\n",
       "      <th></th>\n",
       "      <th>Date</th>\n",
       "      <th>station</th>\n",
       "      <th>count</th>\n",
       "      <th>weekday</th>\n",
       "      <th>month</th>\n",
       "    </tr>\n",
       "  </thead>\n",
       "  <tbody>\n",
       "    <tr>\n",
       "      <th>0</th>\n",
       "      <td>2021-03-01</td>\n",
       "      <td>松山機場</td>\n",
       "      <td>2904</td>\n",
       "      <td>Mon</td>\n",
       "      <td>3</td>\n",
       "    </tr>\n",
       "    <tr>\n",
       "      <th>1</th>\n",
       "      <td>2021-03-02</td>\n",
       "      <td>松山機場</td>\n",
       "      <td>4008</td>\n",
       "      <td>Tue</td>\n",
       "      <td>3</td>\n",
       "    </tr>\n",
       "    <tr>\n",
       "      <th>2</th>\n",
       "      <td>2021-03-03</td>\n",
       "      <td>松山機場</td>\n",
       "      <td>3880</td>\n",
       "      <td>Wed</td>\n",
       "      <td>3</td>\n",
       "    </tr>\n",
       "    <tr>\n",
       "      <th>3</th>\n",
       "      <td>2021-03-04</td>\n",
       "      <td>松山機場</td>\n",
       "      <td>3901</td>\n",
       "      <td>Thu</td>\n",
       "      <td>3</td>\n",
       "    </tr>\n",
       "    <tr>\n",
       "      <th>4</th>\n",
       "      <td>2021-03-05</td>\n",
       "      <td>松山機場</td>\n",
       "      <td>4242</td>\n",
       "      <td>Fri</td>\n",
       "      <td>3</td>\n",
       "    </tr>\n",
       "  </tbody>\n",
       "</table>\n",
       "</div>"
      ],
      "text/plain": [
       "        Date station  count weekday  month\n",
       "0 2021-03-01    松山機場   2904     Mon      3\n",
       "1 2021-03-02    松山機場   4008     Tue      3\n",
       "2 2021-03-03    松山機場   3880     Wed      3\n",
       "3 2021-03-04    松山機場   3901     Thu      3\n",
       "4 2021-03-05    松山機場   4242     Fri      3"
      ]
     },
     "execution_count": 113,
     "metadata": {},
     "output_type": "execute_result"
    }
   ],
   "source": [
    "stationCountDf.head()"
   ]
  },
  {
   "cell_type": "code",
   "execution_count": 114,
   "metadata": {},
   "outputs": [
    {
     "name": "stderr",
     "output_type": "stream",
     "text": [
      "/opt/anaconda3/lib/python3.7/site-packages/pandas/core/groupby/generic.py:303: FutureWarning: Dropping invalid columns in SeriesGroupBy.agg is deprecated. In a future version, a TypeError will be raised. Before calling .agg, select only columns which should be valid for the aggregating function.\n",
      "  results[key] = self.aggregate(func)\n"
     ]
    },
    {
     "data": {
      "text/plain": [
       "station\n",
       "動物園       98.103654\n",
       "小南門       76.344557\n",
       "西湖        76.078501\n",
       "輔大        74.863535\n",
       "南港軟體園區    72.717677\n",
       "            ...    \n",
       "台北橋       51.891356\n",
       "竹圍        51.392796\n",
       "中和        51.154784\n",
       "三重國小      51.010825\n",
       "復興崗       50.723919\n",
       "Name: coefficientVariation, Length: 119, dtype: float64"
      ]
     },
     "execution_count": 114,
     "metadata": {},
     "output_type": "execute_result"
    }
   ],
   "source": [
    "stationCountCVDf = stationCountDf.groupby('station').agg({'count', coefficientVariation})\n",
    "sortedCountCVStations = stationCountCVDf['count']['coefficientVariation'].sort_values(ascending=False)\n",
    "sortedCountCVStations"
   ]
  },
  {
   "cell_type": "markdown",
   "metadata": {},
   "source": [
    "# 差距最大、最小的捷運站"
   ]
  },
  {
   "cell_type": "code",
   "execution_count": 115,
   "metadata": {},
   "outputs": [
    {
     "data": {
      "text/html": [
       "<div>\n",
       "<style scoped>\n",
       "    .dataframe tbody tr th:only-of-type {\n",
       "        vertical-align: middle;\n",
       "    }\n",
       "\n",
       "    .dataframe tbody tr th {\n",
       "        vertical-align: top;\n",
       "    }\n",
       "\n",
       "    .dataframe thead th {\n",
       "        text-align: right;\n",
       "    }\n",
       "</style>\n",
       "<table border=\"1\" class=\"dataframe\">\n",
       "  <thead>\n",
       "    <tr style=\"text-align: right;\">\n",
       "      <th></th>\n",
       "      <th>動物園</th>\n",
       "      <th>復興崗</th>\n",
       "    </tr>\n",
       "    <tr>\n",
       "      <th>Date</th>\n",
       "      <th></th>\n",
       "      <th></th>\n",
       "    </tr>\n",
       "  </thead>\n",
       "  <tbody>\n",
       "    <tr>\n",
       "      <th>2021-04-25</th>\n",
       "      <td>42337</td>\n",
       "      <td>25955</td>\n",
       "    </tr>\n",
       "    <tr>\n",
       "      <th>2021-06-20</th>\n",
       "      <td>3258</td>\n",
       "      <td>7000</td>\n",
       "    </tr>\n",
       "  </tbody>\n",
       "</table>\n",
       "</div>"
      ],
      "text/plain": [
       "              動物園    復興崗\n",
       "Date                    \n",
       "2021-04-25  42337  25955\n",
       "2021-06-20   3258   7000"
      ]
     },
     "execution_count": 115,
     "metadata": {},
     "output_type": "execute_result"
    }
   ],
   "source": [
    "highestCountCVStation = sortedCountCVStations.keys()[0]\n",
    "lowestCountCVStation = sortedCountCVStations.keys()[-1]\n",
    "sumOfWeek = df.resample('W', on='Date').sum()\n",
    "sumOfWeek.iloc[[maxWeekIdx, minWeekIdx]][[highestCountCVStation, lowestCountCVStation]]"
   ]
  }
 ],
 "metadata": {
  "interpreter": {
   "hash": "40d3a090f54c6569ab1632332b64b2c03c39dcf918b08424e98f38b5ae0af88f"
  },
  "kernelspec": {
   "display_name": "Python 3.7.11 64-bit ('base': conda)",
   "name": "python3"
  },
  "language_info": {
   "codemirror_mode": {
    "name": "ipython",
    "version": 3
   },
   "file_extension": ".py",
   "mimetype": "text/x-python",
   "name": "python",
   "nbconvert_exporter": "python",
   "pygments_lexer": "ipython3",
   "version": "3.7.11"
  },
  "orig_nbformat": 4
 },
 "nbformat": 4,
 "nbformat_minor": 2
}
